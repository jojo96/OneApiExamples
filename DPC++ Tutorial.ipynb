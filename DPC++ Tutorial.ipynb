{
 "cells": [
  {
   "cell_type": "markdown",
   "metadata": {},
   "source": [
    "**DPC++**\n",
    "\n",
    "DPC++ is Intel's answer for parallel programming. Following is a simple explanation for a sample DPC++ program.\n",
    "\n",
    "Prerequisites:\n",
    "C++\n",
    "Parallel programming basic understanding\n",
    "\n",
    "This program aims to achieve **Vector Addition**\n",
    "If X and Y are two vectors, the program wants to give aX+Y as output.\n",
    "\n",
    "Normal for loop:\n",
    "    "
   ]
  },
  {
   "cell_type": "code",
   "execution_count": null,
   "metadata": {},
   "outputs": [],
   "source": [
    "\n",
    "    for (size_t i=0; i<length; ++i) {\n",
    "        Z[i] += A * X[i] + Y[i];\n",
    "        }\n"
   ]
  },
  {
   "cell_type": "markdown",
   "metadata": {},
   "source": [
    "This is the \"parallel for\" loop for the operation:\n",
    "\n"
   ]
  },
  {
   "cell_type": "code",
   "execution_count": null,
   "metadata": {},
   "outputs": [],
   "source": [
    "h.parallel_for<class saxpy>( sycl::range<1>{length}, [=] (sycl::id<1> it) {\n",
    "    const int i = it[0];\n",
    "    Z[i] += A * X[i] + Y[i];\n",
    "});\n",
    "    \n"
   ]
  },
  {
   "cell_type": "code",
   "execution_count": null,
   "metadata": {},
   "outputs": [],
   "source": [
    "Points to be noted:\n",
    "\n",
    "1) The loop body is expressed as a lambda, which is the part inside of the {}.\n",
    "\n",
    "2) The loop iterator is expressed in terms of a sycl::range and an sycl::id. \n",
    "Here, sycl::range<1>{length}, [=] (sycl::id<1> it)\n",
    "\n",
    "3) \"it\" is the loop  iterartor and range<1> denotes 1-dimensional.\n",
    "\n",
    "4) \" <class saxpy> \" template argument to parallel_for. This is just a way to name the kernel\n",
    "\n"
   ]
  },
  {
   "cell_type": "markdown",
   "metadata": {},
   "source": [
    "**SYCL QUEUES**(For device selection like CPU, GPU)"
   ]
  },
  {
   "cell_type": "code",
   "execution_count": null,
   "metadata": {},
   "outputs": [],
   "source": [
    "Whenever we want to compute on a device, we need to create a work queue:\n",
    "    sycl::queue q(sycl::default_selector{});\n",
    "            \n",
    "sycl::queue q(sycl::host_selector{});        // run on the CPU without a runtime (e.g. no OpenCL)\n",
    "sycl::queue q(sycl::cpu_selector{});         // run on the CPU with a runtime (e.g. OpenCL)\n",
    "sycl::queue q(sycl::gpu_selector{});         // run on the GPU\n",
    "sycl::queue q(sycl::accelerator_selector{}); // run on an FPGA or other acclerator"
   ]
  },
  {
   "cell_type": "markdown",
   "metadata": {},
   "source": [
    "Managing **data** using  **buffers**"
   ]
  },
  {
   "cell_type": "code",
   "execution_count": null,
   "metadata": {},
   "outputs": [],
   "source": [
    "The canonical way to manage data in SYCL is with buffers\n",
    "\n",
    "// T is a data type, e.g. float\n",
    "std::vector<T> h_X(length,xval);\n",
    "sycl::buffer<T,1> d_X { h_X.data(), sycl::range<1>(h_X.size()) };//range<1> means 1 dimensional buffer\n",
    "//for storing a 1-D array. "
   ]
  },
  {
   "cell_type": "markdown",
   "metadata": {},
   "source": [
    "**Controlling device execution**\n",
    "\n",
    "We use the submit method to enqueue work to the device queue, q. This method returns an opaque handler, against which we execute kernels, in this case via parallel_for.\n",
    "\n"
   ]
  },
  {
   "cell_type": "code",
   "execution_count": null,
   "metadata": {},
   "outputs": [],
   "source": [
    "q.submit([&](sycl::handler& h) {\n",
    "    ...\n",
    "    h.parallel_for<class nstream>( sycl::range<1>{length}, [=] (sycl::id<1> it) {\n",
    "        ....\n",
    "    });\n",
    "});\n",
    "q.wait();"
   ]
  },
  {
   "cell_type": "markdown",
   "metadata": {},
   "source": [
    "**Compute kernels and buffers**\n",
    "\n",
    "This is the final step:\n"
   ]
  },
  {
   "cell_type": "code",
   "execution_count": null,
   "metadata": {},
   "outputs": [],
   "source": [
    "q.submit([&](sycl::handler& h) {\n",
    "\n",
    "    auto X = d_X.template get_access<sycl::access::mode::read>(h);//reading array X\n",
    "    auto Y = d_Y.template get_access<sycl::access::mode::read>(h);//reading array Y\n",
    "    auto Z = d_Z.template get_access<sycl::access::mode::read_write>(h);//Z = aX+Y\n",
    "\n",
    "    h.parallel_for<class nstream>( sycl::range<1>{length}, [=] (sycl::id<1> it) {\n",
    "        ...\n",
    "    });\n",
    "});"
   ]
  },
  {
   "cell_type": "markdown",
   "metadata": {},
   "source": [
    "**Whole Program**"
   ]
  },
  {
   "cell_type": "code",
   "execution_count": null,
   "metadata": {},
   "outputs": [],
   "source": [
    "std::vector<float> h_X(length,xval);\n",
    "    std::vector<float> h_Y(length,yval);\n",
    "    std::vector<float> h_Z(length,zval);\n",
    "\n",
    "    try {\n",
    "\n",
    "        sycl::queue q(sycl::default_selector{});\n",
    "\n",
    "        const float A(aval);\n",
    "\n",
    "        sycl::buffer<float,1> d_X { h_X.data(), sycl::range<1>(h_X.size()) };\n",
    "        sycl::buffer<float,1> d_Y { h_Y.data(), sycl::range<1>(h_Y.size()) };\n",
    "        sycl::buffer<float,1> d_Z { h_Z.data(), sycl::range<1>(h_Z.size()) };\n",
    "\n",
    "        q.submit([&](sycl::handler& h) {\n",
    "\n",
    "            auto X = d_X.template get_access<sycl::access::mode::read>(h);\n",
    "            auto Y = d_Y.template get_access<sycl::access::mode::read>(h);\n",
    "            auto Z = d_Z.template get_access<sycl::access::mode::read_write>(h);\n",
    "\n",
    "            h.parallel_for<class nstream>( sycl::range<1>{length}, [=] (sycl::id<1> it) {\n",
    "                const int i = it[0];\n",
    "                Z[i] += A * X[i] + Y[i];\n",
    "            });\n",
    "          });\n",
    "          q.wait();\n",
    "    }\n",
    "    catch (sycl::exception & e) {\n",
    "        std::cout << e.what() << std::endl;\n",
    "        return 1;\n",
    "    }"
   ]
  }
 ],
 "metadata": {
  "kernelspec": {
   "display_name": "Python 3",
   "language": "python",
   "name": "python3"
  },
  "language_info": {
   "codemirror_mode": {
    "name": "ipython",
    "version": 3
   },
   "file_extension": ".py",
   "mimetype": "text/x-python",
   "name": "python",
   "nbconvert_exporter": "python",
   "pygments_lexer": "ipython3",
   "version": "3.7.4"
  }
 },
 "nbformat": 4,
 "nbformat_minor": 2
}
