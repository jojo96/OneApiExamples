{
 "cells": [
  {
   "cell_type": "markdown",
   "metadata": {},
   "source": [
    "**Parallel For loops**\n",
    "\n",
    "A parallel for loop is a for loop in which the statements in the loop can be run in parallel: on separate cores, processors or threads.\n",
    "\n",
    "For instance, we can consider a for loop which performs the sum of elements of an array. If we divide the thinking process in  our mind and break the for loop into two: one for calculating the sum of even terms and one for calculating the sum of odd terms like:\n",
    "\n",
    "Original array: [1,2,3,4,5,6,7,8,9,10]\n",
    "Even terms: [2,4,6,8,10]\n",
    "Odd terms: [1,3,5,7,9]\n",
    "\n",
    "Now, Sum(Even terms)+ Sum(Odd terms)= Sum(Original Array)\n",
    "So, the for loops for even terms and odd terms can run simultaneously, say on 2 different cores and we get the same sum. We also save time."
   ]
  },
  {
   "cell_type": "code",
   "execution_count": null,
   "metadata": {},
   "outputs": [],
   "source": [
    "#Original array\n",
    "unsigned int numbers[] = { 1, 2, 3, 4, 5, 6};\n",
    "unsigned int sum = 0;\n",
    "const unsigned int quantity = sizeof(numbers) / sizeof (numbers[0]);\n",
    "for (unsigned int i = 0; i < quantity; ++i)\n",
    "{\n",
    "  sum = sum + numbers[i];\n",
    "};"
   ]
  },
  {
   "cell_type": "markdown",
   "metadata": {},
   "source": [
    "Calculating a sum does not depend on the order. The sum only cares that all numbers have been added.\n",
    "\n",
    "The loop could be split into two loops that are executed by separate threads or processors:\n",
    "\n"
   ]
  },
  {
   "cell_type": "code",
   "execution_count": null,
   "metadata": {},
   "outputs": [],
   "source": [
    "// Even loop:\n",
    "unsigned int even_sum = 0;\n",
    "for (unsigned int e = 0; e < quantity; e += 2)\n",
    "{\n",
    "  even_sum += numbers[e];\n",
    "}\n",
    "\n",
    "// Odd summation loop:\n",
    "unsigned int odd_sum = 0;\n",
    "for (unsigned int odd = 1; odd < quantity; odd += 2)\n",
    "{\n",
    "  odd_sum += numbers[odd];\n",
    "}\n",
    "\n",
    "// Create the sum\n",
    "sum = even_sum + odd_sum;"
   ]
  },
  {
   "cell_type": "markdown",
   "metadata": {},
   "source": [
    "The even and odd summing loops are independent of each other. They do not access any of the same memory locations. The summing for loop can be considered as a parallel for loop because its statements can be run by separate processes in parallel, such as separate CPU cores.\n",
    "\n",
    "**No, not any loop can be made parallel. Iterations of the loop must be independent from each other. That is, one cpu core should be able to run one iteration without any side effects to another cpu core running a different iteration.**"
   ]
  },
  {
   "cell_type": "code",
   "execution_count": null,
   "metadata": {},
   "outputs": [],
   "source": [
    "#Matrix Multiplication example\n",
    "# Here is a traditional for loop\n",
    "\n",
    "for (int i = 0; i < matARows; i++)\n",
    "        {\n",
    "            for (int j = 0; j < matBCols; j++)\n",
    "            {\n",
    "                double temp = 0;\n",
    "                for (int k = 0; k < matACols; k++)\n",
    "                {\n",
    "                   temp += matA[i, k] * matB[k, j];\n",
    "                }\n",
    "                result[i, j] += temp;\n",
    "            }\n",
    "        }\n",
    "    \n",
    "    \n",
    "\n",
    "#Corresponding parallel for loop\n",
    "\n",
    "// A basic matrix multiplication.\n",
    "// Parallelize the outer loop to partition the source array by rows.\n",
    "//Matrix multiplication is basically sum of(product of (each row of matrix A,each column of matrix B)). \n",
    "//We can parallelize the sum\n",
    "        Parallel.For(0, matARows, i =>\n",
    "        {\n",
    "            for (int j = 0; j < matBCols; j++)\n",
    "            {\n",
    "                double temp = 0;\n",
    "                for (int k = 0; k < matACols; k++)\n",
    "                {\n",
    "                    temp += matA[i, k] * matB[k, j];\n",
    "                }\n",
    "                result[i, j] = temp;\n",
    "            }\n",
    "        }); // Parallel.For\n",
    "    \n",
    "    \n",
    "##  A = [1 2\n",
    "##       3 4]\n",
    "\n",
    "##  B = [1 2\n",
    "##       3 4]\n",
    "\n",
    "##  C = [1*1+2*3 1*2+2*4\n",
    "##       3*1+4*3 3*2+4*4]\n",
    "#We can run parallel for loops for sums :1*1+2*3, 1*2+2*4, 3*1+4*3, 3*2+4*4"
   ]
  },
  {
   "cell_type": "code",
   "execution_count": null,
   "metadata": {},
   "outputs": [],
   "source": [
    "#More examples\n",
    "\n",
    "#Consider the following code operating on a list L of length n.\n",
    "for (int i = 0; i < n; i++) {\n",
    "    S1: L[i] = L[i] + 10;\n",
    "}"
   ]
  },
  {
   "cell_type": "markdown",
   "metadata": {},
   "source": [
    "Each iteration of the loop takes the value from the current index of L, and increments it by 10. If statement S1 takes T time to execute, then the loop takes time n * T to execute sequentially, ignoring time taken by loop constructs. Now, consider a system with p processors where p > n. If n threads run in parallel, the time to execute all n steps is reduced to T."
   ]
  },
  {
   "cell_type": "code",
   "execution_count": null,
   "metadata": {},
   "outputs": [],
   "source": [
    "#Distributed Loop\n",
    "for (int i = 1; i < n; i ++) {\n",
    "    S1: a[i] = a[i -1] + b[i];\n",
    "    S2: c[i] = c[i] + d[i];\n",
    "}\n",
    "\n",
    "\n",
    "#the loop has a loop carried dependence S1[i] ->T S1[i + 1] but S2 and S1 do not have a loop-independent dependence so we can rewrite the code as follows.\n",
    "#Parallel implementation:\n",
    "\n",
    "loop1: for (int i = 1; i < n; i ++) {\n",
    "    S1: a[i] = a[i -1] + b[i];\n",
    "}\n",
    "loop2: for (int i = 1; i < n; i ++) {\n",
    "    S2: c[i] = c[i] + d[i];\n",
    "}"
   ]
  }
 ],
 "metadata": {
  "kernelspec": {
   "display_name": "Python 3",
   "language": "python",
   "name": "python3"
  },
  "language_info": {
   "codemirror_mode": {
    "name": "ipython",
    "version": 3
   },
   "file_extension": ".py",
   "mimetype": "text/x-python",
   "name": "python",
   "nbconvert_exporter": "python",
   "pygments_lexer": "ipython3",
   "version": "3.7.4"
  }
 },
 "nbformat": 4,
 "nbformat_minor": 2
}
